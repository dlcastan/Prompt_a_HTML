{
  "cells": [
    {
      "attachments": {},
      "cell_type": "markdown",
      "metadata": {
        "id": "ppKHJCeuIxUD"
      },
      "source": [
        "## Crear Página Web desde prompt de ChatGPT \n",
        "\n",
        "**Autor:** Diego Lopez Castan\n",
        "\n",
        "**URL:** https://diegolopezcastan.com/"
      ]
    },
    {
      "cell_type": "code",
      "execution_count": 11,
      "metadata": {
        "colab": {
          "base_uri": "https://localhost:8080/"
        },
        "id": "F6YBySuvI2s0",
        "outputId": "ec7ed01f-4e54-4110-82d3-412cc201b011"
      },
      "outputs": [
        {
          "name": "stdout",
          "output_type": "stream",
          "text": [
            "Looking in indexes: https://pypi.org/simple, https://us-python.pkg.dev/colab-wheels/public/simple/\n",
            "Requirement already satisfied: openai in /usr/local/lib/python3.10/dist-packages (0.27.7)\n",
            "Requirement already satisfied: requests>=2.20 in /usr/local/lib/python3.10/dist-packages (from openai) (2.27.1)\n",
            "Requirement already satisfied: tqdm in /usr/local/lib/python3.10/dist-packages (from openai) (4.65.0)\n",
            "Requirement already satisfied: aiohttp in /usr/local/lib/python3.10/dist-packages (from openai) (3.8.4)\n",
            "Requirement already satisfied: urllib3<1.27,>=1.21.1 in /usr/local/lib/python3.10/dist-packages (from requests>=2.20->openai) (1.26.15)\n",
            "Requirement already satisfied: certifi>=2017.4.17 in /usr/local/lib/python3.10/dist-packages (from requests>=2.20->openai) (2022.12.7)\n",
            "Requirement already satisfied: charset-normalizer~=2.0.0 in /usr/local/lib/python3.10/dist-packages (from requests>=2.20->openai) (2.0.12)\n",
            "Requirement already satisfied: idna<4,>=2.5 in /usr/local/lib/python3.10/dist-packages (from requests>=2.20->openai) (3.4)\n",
            "Requirement already satisfied: attrs>=17.3.0 in /usr/local/lib/python3.10/dist-packages (from aiohttp->openai) (23.1.0)\n",
            "Requirement already satisfied: multidict<7.0,>=4.5 in /usr/local/lib/python3.10/dist-packages (from aiohttp->openai) (6.0.4)\n",
            "Requirement already satisfied: async-timeout<5.0,>=4.0.0a3 in /usr/local/lib/python3.10/dist-packages (from aiohttp->openai) (4.0.2)\n",
            "Requirement already satisfied: yarl<2.0,>=1.0 in /usr/local/lib/python3.10/dist-packages (from aiohttp->openai) (1.9.2)\n",
            "Requirement already satisfied: frozenlist>=1.1.1 in /usr/local/lib/python3.10/dist-packages (from aiohttp->openai) (1.3.3)\n",
            "Requirement already satisfied: aiosignal>=1.1.2 in /usr/local/lib/python3.10/dist-packages (from aiohttp->openai) (1.3.1)\n"
          ]
        }
      ],
      "source": [
        "# Instalo librería de OpenIA\n",
        "!pip install openai"
      ]
    },
    {
      "cell_type": "code",
      "execution_count": 19,
      "metadata": {
        "id": "ie3wHmLAJC6x"
      },
      "outputs": [],
      "source": [
        "# Instalar librerías\n",
        "import openai\n",
        "import os\n",
        "from IPython.display import display, HTML"
      ]
    },
    {
      "cell_type": "code",
      "execution_count": 15,
      "metadata": {
        "id": "wiDvMHrh9W6g"
      },
      "outputs": [],
      "source": [
        "# Completa aquí tu api_key de OpenIA\n",
        "openai.api_key  = 'Ingresa_tu_Key'"
      ]
    },
    {
      "cell_type": "code",
      "execution_count": 16,
      "metadata": {
        "id": "_k12Te8Z9XXt"
      },
      "outputs": [],
      "source": [
        "# Creo Modelo\n",
        "def get_completion(prompt, model=\"gpt-3.5-turbo\"):\n",
        "    messages = [{\"role\": \"user\", \"content\": prompt}]\n",
        "    response = openai.ChatCompletion.create(\n",
        "        model=model,\n",
        "        messages=messages,\n",
        "        temperature=0, \n",
        "    )\n",
        "    return response.choices[0].message[\"content\"]"
      ]
    },
    {
      "cell_type": "code",
      "execution_count": 17,
      "metadata": {
        "id": "gAONP81p9ZlW"
      },
      "outputs": [],
      "source": [
        "# Creo Prompt\n",
        "\n",
        "producto = 'Fender Stratocaster'\n",
        "prompt = f\"\"\"\n",
        "Su tarea es ayudar a un equipo de marketing a crear un\n",
        "descripción para un sitio web minorista del producto que se llama {producto}.\n",
        "\n",
        "Escriba una descripción del producto basada en la información.\n",
        "\n",
        "La descripción está destinada a musicos y amantes de la música\n",
        "por lo que debe centrarse en los\n",
        "materiales y la tecnología con los que está construido el producto.\n",
        "\n",
        "Al final de la descripción, incluya cada 7 caracteres que describen el producto.\n",
        "\n",
        "Formatee todo como HTML que se pueda usar en un sitio web.\n",
        "Coloque la descripción en un elemento <div>.\n",
        "\"\"\"\n",
        "\n",
        "response = get_completion(prompt)"
      ]
    },
    {
      "cell_type": "code",
      "execution_count": 20,
      "metadata": {
        "colab": {
          "base_uri": "https://localhost:8080/"
        },
        "id": "Sr5dpg5dKciY",
        "outputId": "ec75a399-5b61-466b-db84-a9be4d3f9ac5"
      },
      "outputs": [
        {
          "name": "stdout",
          "output_type": "stream",
          "text": [
            "<div>\n",
            "  <h1>Fender Stratocaster</h1>\n",
            "  <p>La Fender Stratocaster es una guitarra eléctrica icónica que ha sido utilizada por algunos de los músicos más influyentes de la historia. Con su cuerpo de aliso y su diapasón de arce o palisandro, la Stratocaster ofrece un tono brillante y equilibrado que es perfecto para una amplia variedad de géneros musicales.</p>\n",
            "  <p>La Stratocaster también cuenta con tres pastillas de bobina simple que ofrecen una amplia gama de tonos, desde el sonido brillante y cristalino de la pastilla del puente hasta el tono cálido y suave de la pastilla del mástil. Además, la Stratocaster cuenta con un trémolo sincronizado de dos puntos que permite a los músicos crear efectos de vibrato y dive-bombing.</p>\n",
            "  <p>Con su diseño elegante y su sonido inconfundible, la Fender Stratocaster es una guitarra que ha resistido la prueba del tiempo y sigue siendo una opción popular para músicos de todos los niveles de habilidad.</p>\n",
            "  <p>Icono de la música. Cuerpo de aliso. Diapasón de arce o palisandro. Tres pastillas de bobina simple. Trémolo sincronizado de dos puntos. Sonido brillante y equilibrado. Amplia gama de tonos.</p>\n",
            "</div>\n"
          ]
        }
      ],
      "source": [
        "# Imprimo Resultado\n",
        "print(response)"
      ]
    },
    {
      "cell_type": "code",
      "execution_count": 21,
      "metadata": {
        "colab": {
          "base_uri": "https://localhost:8080/",
          "height": 257
        },
        "id": "A6g7wA8f973q",
        "outputId": "7e0c1d06-af30-4fd3-d303-d928f39b01a9"
      },
      "outputs": [
        {
          "data": {
            "text/html": [
              "<div>\n",
              "  <h1>Fender Stratocaster</h1>\n",
              "  <p>La Fender Stratocaster es una guitarra eléctrica icónica que ha sido utilizada por algunos de los músicos más influyentes de la historia. Con su cuerpo de aliso y su diapasón de arce o palisandro, la Stratocaster ofrece un tono brillante y equilibrado que es perfecto para una amplia variedad de géneros musicales.</p>\n",
              "  <p>La Stratocaster también cuenta con tres pastillas de bobina simple que ofrecen una amplia gama de tonos, desde el sonido brillante y cristalino de la pastilla del puente hasta el tono cálido y suave de la pastilla del mástil. Además, la Stratocaster cuenta con un trémolo sincronizado de dos puntos que permite a los músicos crear efectos de vibrato y dive-bombing.</p>\n",
              "  <p>Con su diseño elegante y su sonido inconfundible, la Fender Stratocaster es una guitarra que ha resistido la prueba del tiempo y sigue siendo una opción popular para músicos de todos los niveles de habilidad.</p>\n",
              "  <p>Icono de la música. Cuerpo de aliso. Diapasón de arce o palisandro. Tres pastillas de bobina simple. Trémolo sincronizado de dos puntos. Sonido brillante y equilibrado. Amplia gama de tonos.</p>\n",
              "</div>"
            ],
            "text/plain": [
              "<IPython.core.display.HTML object>"
            ]
          },
          "metadata": {},
          "output_type": "display_data"
        }
      ],
      "source": [
        "# Dar formato HTML\n",
        "display(HTML(response))"
      ]
    },
    {
      "cell_type": "code",
      "execution_count": 22,
      "metadata": {
        "id": "YhcQSQWH99xz"
      },
      "outputs": [],
      "source": [
        "# Guardar archivo en formato HTML\n",
        "f = open('product.html','w')\n",
        "f.write(response)\n",
        "f.close()"
      ]
    }
  ],
  "metadata": {
    "colab": {
      "provenance": []
    },
    "kernelspec": {
      "display_name": "Python 3",
      "name": "python3"
    },
    "language_info": {
      "name": "python"
    }
  },
  "nbformat": 4,
  "nbformat_minor": 0
}
